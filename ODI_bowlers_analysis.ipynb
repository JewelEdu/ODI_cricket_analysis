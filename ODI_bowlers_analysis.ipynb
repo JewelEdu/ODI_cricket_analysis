import pandas as pd
df = pd.read_csv("batsman_most_runs_ODI.csv")
